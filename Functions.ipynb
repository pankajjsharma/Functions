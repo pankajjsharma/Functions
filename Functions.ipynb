{
 "cells": [
  {
   "cell_type": "code",
   "execution_count": 21,
   "id": "3f356255-5106-4643-8ca4-e6a4249ae3be",
   "metadata": {},
   "outputs": [],
   "source": [
    "#Q1: Write a Python function that takes a list of numbers as input and returns the sum of all even numbers in the list.\n",
    "#Ans:"
   ]
  },
  {
   "cell_type": "code",
   "execution_count": 23,
   "id": "685a9306-0f27-4663-b938-d114ffb8f826",
   "metadata": {},
   "outputs": [
    {
     "data": {
      "text/plain": [
       "60"
      ]
     },
     "execution_count": 23,
     "metadata": {},
     "output_type": "execute_result"
    }
   ],
   "source": [
    "myList = [1, 3, 5, 6, 8, 10, 34, 2, 0, 3]\n",
    "sum(filter(lambda x: not x%2, myList))"
   ]
  },
  {
   "cell_type": "code",
   "execution_count": null,
   "id": "4b5f6433-00fc-476c-ad05-267d1566f815",
   "metadata": {},
   "outputs": [],
   "source": [
    "# Q2: Create a Python function that accepts a string and returns the reverse of that string."
   ]
  },
  {
   "cell_type": "code",
   "execution_count": 25,
   "id": "cf7a19ee-4dc9-4fc7-b69b-2a69d371754f",
   "metadata": {},
   "outputs": [
    {
     "name": "stdout",
     "output_type": "stream",
     "text": [
      "sdrawkcab ekil skool txet siht woh rednow I\n"
     ]
    }
   ],
   "source": [
    "#ANS:\n",
    "\n",
    "def my_function(x):\n",
    "  return x[::-1]\n",
    "\n",
    "mytxt = my_function(\"I wonder how this text looks like backwards\")\n",
    "\n",
    "print(mytxt)"
   ]
  },
  {
   "cell_type": "code",
   "execution_count": null,
   "id": "a19725d4-8207-40dc-9c1e-9da41db69b9b",
   "metadata": {},
   "outputs": [],
   "source": [
    "# Q3. Implement a Python function that takes a list of integers and returns a new list containing the squares ofeach number."
   ]
  },
  {
   "cell_type": "code",
   "execution_count": 27,
   "id": "5f5c5036-362c-477d-89d6-0a1aeb6f9f8e",
   "metadata": {},
   "outputs": [
    {
     "name": "stdout",
     "output_type": "stream",
     "text": [
      "[1, 4, 9, 16, 25, 4356, 4356, 5929, 619369, 529]\n"
     ]
    }
   ],
   "source": [
    "#ANS:\n",
    "lst=[1,2,3,4,5,66,66,77,787,23]\n",
    "squared = [x**2 for x in lst]\n",
    "print(squared)"
   ]
  },
  {
   "cell_type": "code",
   "execution_count": null,
   "id": "739e6623-1163-4076-aa20-bfc5eb851646",
   "metadata": {},
   "outputs": [],
   "source": [
    "#Q4: Write a Python function that checks if a given number is prime or not from 1 to 200."
   ]
  },
  {
   "cell_type": "code",
   "execution_count": 43,
   "id": "c3d5b3e0-3186-4eae-bb75-b9ef1036f7ff",
   "metadata": {},
   "outputs": [
    {
     "name": "stdout",
     "output_type": "stream",
     "text": [
      "Prime no. between 1,200 are\n",
      "2\t3\t5\t7\t11\t13\t17\t19\t23\t29\t31\t37\t41\t43\t47\t53\t59\t61\t67\t71\t73\t79\t83\t89\t97\t101\t103\t107\t109\t113\t127\t131\t137\t139\t149\t151\t157\t163\t167\t173\t179\t181\t191\t193\t197\t199\t"
     ]
    }
   ],
   "source": [
    "#ANS:\n",
    "\n",
    "import math\n",
    "\n",
    "def is_prime(n):\n",
    "    if n < 2:\n",
    "        return False\n",
    "    i = 2\n",
    "    while i*i <= n:\n",
    "        if n % i == 0:\n",
    "            return False\n",
    "        i += 1\n",
    "    return True\n",
    "print(\"Prime no. between 1,200 are\")\n",
    "for j in range(1,201):\n",
    "    if(is_prime(j)==True):\n",
    "        print(j, end=\"\\t\")"
   ]
  },
  {
   "cell_type": "code",
   "execution_count": null,
   "id": "5726442d-c171-4b4a-bc08-e34a2c7c8d82",
   "metadata": {},
   "outputs": [],
   "source": [
    "#Q5: Create an iterator class in Python that generates the Fibonacci sequence up to a specified number of terms"
   ]
  },
  {
   "cell_type": "code",
   "execution_count": 45,
   "id": "c37743ee-b208-4920-8e1f-6191ecf66bb9",
   "metadata": {},
   "outputs": [],
   "source": [
    "#ANS:\n",
    "\n",
    "class FibonacciIterator:\n",
    "  def __init__(self, limit):\n",
    "      self.limit = limit\n",
    "      self.a = 0\n",
    "      self.b = 1\n",
    "  def __iter__(self):\n",
    "      return self\n",
    "  def __next__(self):\n",
    "      if self.a > self.limit:\n",
    "          raise StopIteration\n",
    "      current = self.a\n",
    "      self.a, self.b = self.b, self.a + self.b"
   ]
  },
  {
   "cell_type": "code",
   "execution_count": null,
   "id": "04787317-1bd2-450d-aa1a-2b60de468603",
   "metadata": {},
   "outputs": [],
   "source": [
    "#Q6: Write a generator function in Python that yields the powers of 2 up to a given exponent."
   ]
  },
  {
   "cell_type": "code",
   "execution_count": 47,
   "id": "a4286970-4a74-4760-99ee-368e3fe08de2",
   "metadata": {},
   "outputs": [
    {
     "name": "stdin",
     "output_type": "stream",
     "text": [
      "Input the exponent:  3\n"
     ]
    },
    {
     "name": "stdout",
     "output_type": "stream",
     "text": [
      "Powers of 2 up to exponent 3:\n",
      "1\n",
      "2\n",
      "4\n",
      "8\n"
     ]
    }
   ],
   "source": [
    "#ANS:\n",
    "def power_generator(base, exponent):\n",
    "    result = 1\n",
    "    for i in range(exponent + 1):\n",
    "        yield result\n",
    "        result *= base\n",
    "\n",
    "# Accept input from the user\n",
    "base = 2\n",
    "exponent = int(input(\"Input the exponent: \"))\n",
    "\n",
    "# Create the generator object\n",
    "power_gen = power_generator(base, exponent)\n",
    "\n",
    "# Generate and print the powers\n",
    "print(f\"Powers of {base} up to exponent {exponent}:\")\n",
    "for power in power_gen:\n",
    "    print(power)\n"
   ]
  },
  {
   "cell_type": "code",
   "execution_count": null,
   "id": "78c54e1b-4565-4e06-b4d1-4fb8ec80ed77",
   "metadata": {},
   "outputs": [],
   "source": [
    "#Q7. Implement a generator function that reads a file line by line and yields each line as a string.\n",
    "#ANS:\n",
    "\n",
    "# Open the file in read mode\n",
    "with open('filename.txt', 'r') as file:\n",
    "    # Read each line in the file\n",
    "    for line in file:\n",
    "        # Print each line\n",
    "        print(line.strip())"
   ]
  },
  {
   "cell_type": "code",
   "execution_count": null,
   "id": "0a70689d-deb9-49ff-a188-44b820f527df",
   "metadata": {},
   "outputs": [],
   "source": [
    "#Q8: Use a lambda function in Python to sort a list of tuples based on the second element of each tuple."
   ]
  },
  {
   "cell_type": "code",
   "execution_count": 49,
   "id": "afdf1df8-fccd-4299-9864-c152b68d6da6",
   "metadata": {},
   "outputs": [
    {
     "name": "stdout",
     "output_type": "stream",
     "text": [
      "Original list of tuples:\n",
      "[('English', 88), ('Science', 90), ('Maths', 97), ('Social sciences', 82)]\n",
      "\n",
      "Sorting the List of Tuples:\n",
      "[('Social sciences', 82), ('English', 88), ('Science', 90), ('Maths', 97)]\n"
     ]
    }
   ],
   "source": [
    "#ANS:\n",
    "# Create a list of tuples named 'subject_marks', each tuple containing a subject and its corresponding marks\n",
    "subject_marks = [('English', 88), ('Science', 90), ('Maths', 97), ('Social sciences', 82)]\n",
    "\n",
    "# Display the original list of tuples to the console\n",
    "print(\"Original list of tuples:\")\n",
    "print(subject_marks)\n",
    "\n",
    "# Sort the 'subject_marks' list of tuples based on the second element of each tuple (the marks),\n",
    "# using a lambda function as the sorting key to extract the second element\n",
    "subject_marks.sort(key=lambda x: x[1])\n",
    "\n",
    "# Display the sorted list of tuples to the console\n",
    "print(\"\\nSorting the List of Tuples:\")\n",
    "print(subject_marks) \n"
   ]
  },
  {
   "cell_type": "code",
   "execution_count": null,
   "id": "e22569dc-2dbc-45d0-a526-40d51d1139bb",
   "metadata": {},
   "outputs": [],
   "source": [
    "#Q9: Write a Python program that uses `map()` to convert a list of temperatures from Celsius to Fahrenheit."
   ]
  },
  {
   "cell_type": "code",
   "execution_count": 53,
   "id": "eec97485-5780-4c9c-86b7-56924d6cef06",
   "metadata": {},
   "outputs": [
    {
     "name": "stdout",
     "output_type": "stream",
     "text": [
      "[('Bhimtal', 89.6), ('Bhrokoon', 53.6), ('Bhiwani', 111.2), ('Nainital', 84.2)]\n"
     ]
    }
   ],
   "source": [
    "#ANS:\n",
    "places = [('Bhimtal',32),(\"Bhrokoon\",12),(\"Bhiwani\",44), (\"Nainital\",29)]\n",
    "\n",
    "newplaces = list(map(lambda c: (c[0],  (9/5) * c[1]+ 32), places))\n",
    "print(newplaces)"
   ]
  },
  {
   "cell_type": "code",
   "execution_count": null,
   "id": "3493c474-9077-44cb-bad0-00ff932d95b1",
   "metadata": {},
   "outputs": [],
   "source": [
    "#Q10: Create a Python program that uses `filter()` to remove all the vowels from a given string."
   ]
  },
  {
   "cell_type": "code",
   "execution_count": 61,
   "id": "8af4f78c-cd2b-4a3e-a10a-58b1e97a9d38",
   "metadata": {},
   "outputs": [
    {
     "name": "stdout",
     "output_type": "stream",
     "text": [
      "['a', 'e', 'i']\n"
     ]
    }
   ],
   "source": [
    "#ANS:\n",
    "# Filtering a list of numbers\n",
    "vowels = ['a','b','h','e','j','i']\n",
    "filtered = list(filter(lambda x: x in ['a','e','i','o','u'], vowels))\n",
    "print(filtered)"
   ]
  },
  {
   "cell_type": "code",
   "execution_count": null,
   "id": "ab20cf1b-d248-4557-8702-5b49fd58cdc3",
   "metadata": {},
   "outputs": [],
   "source": [
    "#Q11: Write a Python program using lambda and map."
   ]
  },
  {
   "cell_type": "code",
   "execution_count": 63,
   "id": "e4406701-a065-4deb-b06f-d7e7c7be6cb0",
   "metadata": {},
   "outputs": [
    {
     "data": {
      "text/plain": [
       "[2, 4, 6, 8, 10]"
      ]
     },
     "execution_count": 63,
     "metadata": {},
     "output_type": "execute_result"
    }
   ],
   "source": [
    "#ANS:\n",
    "list(map(lambda n: n * 2, [1, 2, 3, 4, 5]))"
   ]
  }
 ],
 "metadata": {
  "kernelspec": {
   "display_name": "Python [conda env:base] *",
   "language": "python",
   "name": "conda-base-py"
  },
  "language_info": {
   "codemirror_mode": {
    "name": "ipython",
    "version": 3
   },
   "file_extension": ".py",
   "mimetype": "text/x-python",
   "name": "python",
   "nbconvert_exporter": "python",
   "pygments_lexer": "ipython3",
   "version": "3.12.7"
  }
 },
 "nbformat": 4,
 "nbformat_minor": 5
}
